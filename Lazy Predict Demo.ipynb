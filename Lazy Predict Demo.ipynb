{
 "cells": [
  {
   "cell_type": "code",
   "execution_count": 7,
   "metadata": {},
   "outputs": [],
   "source": [
    "# Importing Necessary Packages\n",
    "\n",
    "import lazypredict\n",
    "from lazypredict.Supervised import LazyRegressor\n",
    "from lazypredict.Supervised import LazyClassifier\n",
    "from sklearn import datasets\n",
    "from sklearn.model_selection import train_test_split\n",
    "from sklearn.utils import shuffle\n",
    "import numpy as np"
   ]
  },
  {
   "cell_type": "code",
   "execution_count": 6,
   "metadata": {},
   "outputs": [],
   "source": [
    "# Loading  df_class for classification dataset and df_reg for regression dataset\n",
    "\n",
    "df_class = datasets.load_wine()\n",
    "df_reg = datasets.load_diabetes()\n"
   ]
  },
  {
   "cell_type": "code",
   "execution_count": 9,
   "metadata": {},
   "outputs": [],
   "source": [
    "# Separating df_class into dependent and independent features\n",
    "\n",
    "X = df_class.data\n",
    "y = df_class.target"
   ]
  },
  {
   "cell_type": "code",
   "execution_count": 10,
   "metadata": {},
   "outputs": [],
   "source": [
    "# Splitting df_class into training and testing part(70% training and 30% testing)\n",
    "\n",
    "X_train, X_test, y_train, y_test = train_test_split(X, y, test_size=.3, random_state =123)"
   ]
  },
  {
   "cell_type": "code",
   "execution_count": 11,
   "metadata": {},
   "outputs": [],
   "source": [
    "# Creating LazyClassiflier model\n",
    "\n",
    "clf = LazyClassifier(verbose=0, ignore_warnings=True, custom_metric = None)"
   ]
  },
  {
   "cell_type": "code",
   "execution_count": 12,
   "metadata": {},
   "outputs": [
    {
     "name": "stderr",
     "output_type": "stream",
     "text": [
      "100%|██████████| 29/29 [00:02<00:00, 14.47it/s]\n"
     ]
    }
   ],
   "source": [
    "# Fitting data in LazyClassifier\n",
    "\n",
    "models,predictions = clf.fit(X_train, X_test, y_train, y_test)"
   ]
  },
  {
   "cell_type": "code",
   "execution_count": 13,
   "metadata": {},
   "outputs": [
    {
     "name": "stdout",
     "output_type": "stream",
     "text": [
      "                               Accuracy  Balanced Accuracy ROC AUC  F1 Score  \\\n",
      "Model                                                                          \n",
      "LGBMClassifier                     1.00               1.00    None      1.00   \n",
      "ExtraTreesClassifier               1.00               1.00    None      1.00   \n",
      "GaussianNB                         1.00               1.00    None      1.00   \n",
      "NuSVC                              0.98               0.98    None      0.98   \n",
      "LogisticRegression                 0.98               0.98    None      0.98   \n",
      "RidgeClassifier                    0.98               0.98    None      0.98   \n",
      "RandomForestClassifier             0.98               0.98    None      0.98   \n",
      "RidgeClassifierCV                  0.98               0.98    None      0.98   \n",
      "SVC                                0.98               0.98    None      0.98   \n",
      "XGBClassifier                      0.98               0.98    None      0.98   \n",
      "LabelPropagation                   0.98               0.98    None      0.98   \n",
      "LabelSpreading                     0.98               0.98    None      0.98   \n",
      "LinearDiscriminantAnalysis         0.98               0.98    None      0.98   \n",
      "SGDClassifier                      0.96               0.97    None      0.96   \n",
      "QuadraticDiscriminantAnalysis      0.96               0.97    None      0.96   \n",
      "PassiveAggressiveClassifier        0.96               0.97    None      0.96   \n",
      "NearestCentroid                    0.96               0.96    None      0.96   \n",
      "BernoulliNB                        0.96               0.96    None      0.96   \n",
      "KNeighborsClassifier               0.96               0.96    None      0.96   \n",
      "LinearSVC                          0.94               0.95    None      0.94   \n",
      "CalibratedClassifierCV             0.94               0.95    None      0.94   \n",
      "Perceptron                         0.93               0.94    None      0.93   \n",
      "BaggingClassifier                  0.91               0.92    None      0.91   \n",
      "DecisionTreeClassifier             0.91               0.92    None      0.91   \n",
      "AdaBoostClassifier                 0.87               0.89    None      0.87   \n",
      "ExtraTreeClassifier                0.80               0.80    None      0.79   \n",
      "DummyClassifier                    0.33               0.33    None      0.17   \n",
      "\n",
      "                               Time Taken  \n",
      "Model                                      \n",
      "LGBMClassifier                       0.13  \n",
      "ExtraTreesClassifier                 0.28  \n",
      "GaussianNB                           0.01  \n",
      "NuSVC                                0.02  \n",
      "LogisticRegression                   0.04  \n",
      "RidgeClassifier                      0.04  \n",
      "RandomForestClassifier               0.17  \n",
      "RidgeClassifierCV                    0.02  \n",
      "SVC                                  0.02  \n",
      "XGBClassifier                        0.22  \n",
      "LabelPropagation                     0.01  \n",
      "LabelSpreading                       0.01  \n",
      "LinearDiscriminantAnalysis           0.03  \n",
      "SGDClassifier                        0.01  \n",
      "QuadraticDiscriminantAnalysis        0.02  \n",
      "PassiveAggressiveClassifier          0.02  \n",
      "NearestCentroid                      0.24  \n",
      "BernoulliNB                          0.03  \n",
      "KNeighborsClassifier                 0.05  \n",
      "LinearSVC                            0.02  \n",
      "CalibratedClassifierCV               0.15  \n",
      "Perceptron                           0.01  \n",
      "BaggingClassifier                    0.05  \n",
      "DecisionTreeClassifier               0.01  \n",
      "AdaBoostClassifier                   0.31  \n",
      "ExtraTreeClassifier                  0.02  \n",
      "DummyClassifier                      0.02  \n"
     ]
    }
   ],
   "source": [
    "# Checking Models outputs\n",
    "\n",
    "print(models)"
   ]
  },
  {
   "cell_type": "code",
   "execution_count": 14,
   "metadata": {},
   "outputs": [],
   "source": [
    "# Loading and shuffling the df_reg dataset\n",
    "\n",
    "X, y = shuffle(df_reg.data, df_reg.target, random_state=13)\n",
    "offset = int(X.shape[0] * 0.9)"
   ]
  }
 ],
 "metadata": {
  "kernelspec": {
   "display_name": "Python 3",
   "language": "python",
   "name": "python3"
  },
  "language_info": {
   "codemirror_mode": {
    "name": "ipython",
    "version": 3
   },
   "file_extension": ".py",
   "mimetype": "text/x-python",
   "name": "python",
   "nbconvert_exporter": "python",
   "pygments_lexer": "ipython3",
   "version": "3.10.6"
  },
  "orig_nbformat": 4
 },
 "nbformat": 4,
 "nbformat_minor": 2
}
