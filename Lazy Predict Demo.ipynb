{
 "cells": [
  {
   "cell_type": "code",
   "execution_count": 1,
   "metadata": {},
   "outputs": [],
   "source": [
    "# Importing Necessary Packages\n",
    "\n",
    "import lazypredict\n",
    "from lazypredict.Supervised import LazyRegressor\n",
    "from lazypredict.Supervised import LazyClassifier\n",
    "from sklearn import datasets\n",
    "from sklearn.model_selection import train_test_split\n",
    "from sklearn.utils import shuffle\n",
    "import numpy as np"
   ]
  },
  {
   "cell_type": "code",
   "execution_count": 2,
   "metadata": {},
   "outputs": [],
   "source": [
    "# Loading  df_class for classification dataset and df_reg for regression dataset\n",
    "\n",
    "df_class = datasets.load_wine()\n",
    "df_reg = datasets.load_diabetes()\n"
   ]
  },
  {
   "cell_type": "code",
   "execution_count": 3,
   "metadata": {},
   "outputs": [],
   "source": [
    "# Separating df_class into dependent and independent features\n",
    "\n",
    "X = df_class.data\n",
    "y = df_class.target"
   ]
  },
  {
   "cell_type": "code",
   "execution_count": 4,
   "metadata": {},
   "outputs": [],
   "source": [
    "# Splitting df_class into training and testing part(70% training and 30% testing)\n",
    "\n",
    "X_train, X_test, y_train, y_test = train_test_split(X, y, test_size=.3, random_state =123)"
   ]
  },
  {
   "cell_type": "code",
   "execution_count": 5,
   "metadata": {},
   "outputs": [],
   "source": [
    "# Creating LazyClassiflier model\n",
    "\n",
    "clf = LazyClassifier(verbose=0, ignore_warnings=True, custom_metric = None)"
   ]
  },
  {
   "cell_type": "code",
   "execution_count": 6,
   "metadata": {},
   "outputs": [
    {
     "name": "stderr",
     "output_type": "stream",
     "text": [
      "100%|██████████| 29/29 [00:02<00:00, 12.97it/s]\n"
     ]
    }
   ],
   "source": [
    "# Fitting data in LazyClassifier\n",
    "\n",
    "models,predictions = clf.fit(X_train, X_test, y_train, y_test)"
   ]
  },
  {
   "cell_type": "code",
   "execution_count": 7,
   "metadata": {},
   "outputs": [
    {
     "name": "stdout",
     "output_type": "stream",
     "text": [
      "                               Accuracy  Balanced Accuracy ROC AUC  F1 Score  \\\n",
      "Model                                                                          \n",
      "LGBMClassifier                     1.00               1.00    None      1.00   \n",
      "ExtraTreesClassifier               1.00               1.00    None      1.00   \n",
      "GaussianNB                         1.00               1.00    None      1.00   \n",
      "NuSVC                              0.98               0.98    None      0.98   \n",
      "LogisticRegression                 0.98               0.98    None      0.98   \n",
      "RidgeClassifier                    0.98               0.98    None      0.98   \n",
      "RandomForestClassifier             0.98               0.98    None      0.98   \n",
      "RidgeClassifierCV                  0.98               0.98    None      0.98   \n",
      "SVC                                0.98               0.98    None      0.98   \n",
      "XGBClassifier                      0.98               0.98    None      0.98   \n",
      "LabelPropagation                   0.98               0.98    None      0.98   \n",
      "LabelSpreading                     0.98               0.98    None      0.98   \n",
      "LinearDiscriminantAnalysis         0.98               0.98    None      0.98   \n",
      "SGDClassifier                      0.96               0.97    None      0.96   \n",
      "QuadraticDiscriminantAnalysis      0.96               0.97    None      0.96   \n",
      "PassiveAggressiveClassifier        0.96               0.97    None      0.96   \n",
      "NearestCentroid                    0.96               0.96    None      0.96   \n",
      "BernoulliNB                        0.96               0.96    None      0.96   \n",
      "KNeighborsClassifier               0.96               0.96    None      0.96   \n",
      "LinearSVC                          0.94               0.95    None      0.94   \n",
      "CalibratedClassifierCV             0.94               0.95    None      0.94   \n",
      "Perceptron                         0.93               0.94    None      0.93   \n",
      "BaggingClassifier                  0.91               0.92    None      0.91   \n",
      "DecisionTreeClassifier             0.91               0.92    None      0.91   \n",
      "AdaBoostClassifier                 0.87               0.89    None      0.87   \n",
      "ExtraTreeClassifier                0.80               0.80    None      0.79   \n",
      "DummyClassifier                    0.33               0.33    None      0.17   \n",
      "\n",
      "                               Time Taken  \n",
      "Model                                      \n",
      "LGBMClassifier                       0.22  \n",
      "ExtraTreesClassifier                 0.31  \n",
      "GaussianNB                           0.02  \n",
      "NuSVC                                0.03  \n",
      "LogisticRegression                   0.04  \n",
      "RidgeClassifier                      0.03  \n",
      "RandomForestClassifier               0.30  \n",
      "RidgeClassifierCV                    0.03  \n",
      "SVC                                  0.07  \n",
      "XGBClassifier                        0.18  \n",
      "LabelPropagation                     0.02  \n",
      "LabelSpreading                       0.02  \n",
      "LinearDiscriminantAnalysis           0.03  \n",
      "SGDClassifier                        0.06  \n",
      "QuadraticDiscriminantAnalysis        0.04  \n",
      "PassiveAggressiveClassifier          0.02  \n",
      "NearestCentroid                      0.17  \n",
      "BernoulliNB                          0.03  \n",
      "KNeighborsClassifier                 0.04  \n",
      "LinearSVC                            0.02  \n",
      "CalibratedClassifierCV               0.10  \n",
      "Perceptron                           0.02  \n",
      "BaggingClassifier                    0.06  \n",
      "DecisionTreeClassifier               0.02  \n",
      "AdaBoostClassifier                   0.27  \n",
      "ExtraTreeClassifier                  0.02  \n",
      "DummyClassifier                      0.02  \n"
     ]
    }
   ],
   "source": [
    "# Checking Models outputs\n",
    "\n",
    "print(models)"
   ]
  },
  {
   "cell_type": "code",
   "execution_count": 8,
   "metadata": {},
   "outputs": [],
   "source": [
    "# Loading and shuffling the df_reg dataset\n",
    "\n",
    "X, y = shuffle(df_reg.data, df_reg.target, random_state=13)\n",
    "offset = int(X.shape[0] * 0.9)"
   ]
  },
  {
   "cell_type": "code",
   "execution_count": 9,
   "metadata": {},
   "outputs": [],
   "source": [
    "# Splitting dataset into training and testing part\n",
    "\n",
    "X_train, y_train = X[:offset], y[:offset]\n",
    "X_test, y_test = X[offset:], y[offset:]"
   ]
  },
  {
   "cell_type": "code",
   "execution_count": 10,
   "metadata": {},
   "outputs": [],
   "source": [
    "# Creating LazyRegressor model\n",
    "\n",
    "reg = LazyRegressor(verbose=0, ignore_warnings=False, custom_metric=None)"
   ]
  },
  {
   "cell_type": "code",
   "execution_count": 11,
   "metadata": {},
   "outputs": [
    {
     "name": "stderr",
     "output_type": "stream",
     "text": [
      "100%|██████████| 42/42 [00:09<00:00,  4.47it/s]\n"
     ]
    }
   ],
   "source": [
    "# Fitting data in LazyRegressor\n",
    "\n",
    "models, predictions = reg.fit(X_train, X_test, y_train, y_test)"
   ]
  },
  {
   "cell_type": "code",
   "execution_count": 12,
   "metadata": {},
   "outputs": [
    {
     "name": "stdout",
     "output_type": "stream",
     "text": [
      "                               Adjusted R-Squared  R-Squared   RMSE  \\\n",
      "Model                                                                 \n",
      "ExtraTreesRegressor                          0.38       0.52  54.22   \n",
      "OrthogonalMatchingPursuitCV                  0.37       0.52  54.39   \n",
      "Lasso                                        0.37       0.52  54.46   \n",
      "LassoLars                                    0.37       0.52  54.46   \n",
      "LarsCV                                       0.37       0.51  54.54   \n",
      "LassoCV                                      0.37       0.51  54.59   \n",
      "PassiveAggressiveRegressor                   0.37       0.51  54.74   \n",
      "LassoLarsIC                                  0.36       0.51  54.83   \n",
      "SGDRegressor                                 0.36       0.51  54.85   \n",
      "RidgeCV                                      0.36       0.51  54.91   \n",
      "Ridge                                        0.36       0.51  54.91   \n",
      "BayesianRidge                                0.36       0.51  54.94   \n",
      "LassoLarsCV                                  0.36       0.51  54.96   \n",
      "LinearRegression                             0.36       0.51  54.96   \n",
      "TransformedTargetRegressor                   0.36       0.51  54.96   \n",
      "Lars                                         0.36       0.50  55.09   \n",
      "ElasticNetCV                                 0.36       0.50  55.20   \n",
      "HuberRegressor                               0.36       0.50  55.24   \n",
      "RandomForestRegressor                        0.35       0.50  55.46   \n",
      "LGBMRegressor                                0.34       0.49  55.93   \n",
      "HistGradientBoostingRegressor                0.34       0.49  56.08   \n",
      "PoissonRegressor                             0.32       0.48  56.61   \n",
      "AdaBoostRegressor                            0.31       0.47  57.14   \n",
      "ElasticNet                                   0.30       0.46  57.49   \n",
      "KNeighborsRegressor                          0.30       0.46  57.57   \n",
      "OrthogonalMatchingPursuit                    0.29       0.45  57.87   \n",
      "XGBRegressor                                 0.29       0.45  58.16   \n",
      "BaggingRegressor                             0.28       0.44  58.57   \n",
      "GradientBoostingRegressor                    0.25       0.42  59.54   \n",
      "TweedieRegressor                             0.24       0.42  59.81   \n",
      "GammaRegressor                               0.22       0.40  60.61   \n",
      "RANSACRegressor                              0.20       0.38  61.40   \n",
      "LinearSVR                                    0.12       0.32  64.66   \n",
      "ExtraTreeRegressor                           0.00       0.23  68.73   \n",
      "NuSVR                                       -0.07       0.18  71.06   \n",
      "SVR                                         -0.10       0.15  72.04   \n",
      "DummyRegressor                              -0.30      -0.00  78.37   \n",
      "QuantileRegressor                           -0.35      -0.04  79.84   \n",
      "DecisionTreeRegressor                       -0.46      -0.13  83.12   \n",
      "GaussianProcessRegressor                    -0.77      -0.37  91.51   \n",
      "MLPRegressor                                -1.87      -1.22 116.51   \n",
      "KernelRidge                                 -5.04      -3.67 169.06   \n",
      "\n",
      "                               Time Taken  \n",
      "Model                                      \n",
      "ExtraTreesRegressor                  0.31  \n",
      "OrthogonalMatchingPursuitCV          1.50  \n",
      "Lasso                                0.01  \n",
      "LassoLars                            0.01  \n",
      "LarsCV                               0.03  \n",
      "LassoCV                              0.07  \n",
      "PassiveAggressiveRegressor           0.00  \n",
      "LassoLarsIC                          0.03  \n",
      "SGDRegressor                         0.01  \n",
      "RidgeCV                              0.01  \n",
      "Ridge                                0.01  \n",
      "BayesianRidge                        0.01  \n",
      "LassoLarsCV                          0.09  \n",
      "LinearRegression                     0.01  \n",
      "TransformedTargetRegressor           0.01  \n",
      "Lars                                 0.04  \n",
      "ElasticNetCV                         0.06  \n",
      "HuberRegressor                       0.03  \n",
      "RandomForestRegressor                0.64  \n",
      "LGBMRegressor                        0.09  \n",
      "HistGradientBoostingRegressor        0.38  \n",
      "PoissonRegressor                     0.70  \n",
      "AdaBoostRegressor                    0.22  \n",
      "ElasticNet                           0.03  \n",
      "KNeighborsRegressor                  0.02  \n",
      "OrthogonalMatchingPursuit            0.01  \n",
      "XGBRegressor                         0.19  \n",
      "BaggingRegressor                     0.06  \n",
      "GradientBoostingRegressor            0.20  \n",
      "TweedieRegressor                     0.03  \n",
      "GammaRegressor                       0.02  \n",
      "RANSACRegressor                      0.25  \n",
      "LinearSVR                            0.01  \n",
      "ExtraTreeRegressor                   0.02  \n",
      "NuSVR                                0.02  \n",
      "SVR                                  0.03  \n",
      "DummyRegressor                       0.01  \n",
      "QuantileRegressor                    3.66  \n",
      "DecisionTreeRegressor                0.02  \n",
      "GaussianProcessRegressor             0.08  \n",
      "MLPRegressor                         0.43  \n",
      "KernelRidge                          0.02  \n"
     ]
    }
   ],
   "source": [
    "# Checking Models outputs\n",
    "\n",
    "print(models)"
   ]
  }
 ],
 "metadata": {
  "kernelspec": {
   "display_name": "Python 3",
   "language": "python",
   "name": "python3"
  },
  "language_info": {
   "codemirror_mode": {
    "name": "ipython",
    "version": 3
   },
   "file_extension": ".py",
   "mimetype": "text/x-python",
   "name": "python",
   "nbconvert_exporter": "python",
   "pygments_lexer": "ipython3",
   "version": "3.10.6"
  },
  "orig_nbformat": 4
 },
 "nbformat": 4,
 "nbformat_minor": 2
}
